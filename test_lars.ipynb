{
 "cells": [
  {
   "cell_type": "code",
   "execution_count": 6,
   "metadata": {},
   "outputs": [
    {
     "name": "stdout",
     "output_type": "stream",
     "text": [
      "Коэффициент регрессии (наклон прямой): [  213.36238679 -1180.0213106 ]\n",
      "Свободный член (пересечение с осью y): 1315.7911561001638\n",
      "Прогнозируемая цена для дома с площадью 300 кв. м: 65324.50719232818\n"
     ]
    }
   ],
   "source": [
    "from sklearn.linear_model import Lars\n",
    "import numpy as np\n",
    "\n",
    "# Исходные данные: площадь домов (в квадратных метрах) и их цены (в тысячах долларов)\n",
    "X = np.array([[100, 0], [150, 0], [200, 10], [250, 50], [300, 3]])  # Площадь домов и близость от центра города\n",
    "y = np.array([30000, 40000, 5000, 600, 70000])            # Цены на дома\n",
    "\n",
    "# Инициализируем и обучаем модель LARS\n",
    "lars = Lars()\n",
    "lars.fit(X, y)\n",
    "\n",
    "# Выводим коэффициенты регрессии\n",
    "print(\"Коэффициент регрессии (наклон прямой):\", lars.coef_)\n",
    "print(\"Свободный член (пересечение с осью y):\", lars.intercept_)\n",
    "\n",
    "# Прогнозируем цену дома для новой площади\n",
    "new_area = np.array([[300, 0]])  # Новая площадь дома\n",
    "predicted_price = lars.predict(new_area)\n",
    "print(\"Прогнозируемая цена для дома с площадью\", new_area[0][0], \"кв. м:\", predicted_price[0])\n"
   ]
  },
  {
   "cell_type": "code",
   "execution_count": 10,
   "metadata": {},
   "outputs": [
    {
     "name": "stdout",
     "output_type": "stream",
     "text": [
      "False\n"
     ]
    }
   ],
   "source": [
    "x = 2.1\n",
    "print(x == int(x))"
   ]
  }
 ],
 "metadata": {
  "kernelspec": {
   "display_name": "Python 3",
   "language": "python",
   "name": "python3"
  },
  "language_info": {
   "codemirror_mode": {
    "name": "ipython",
    "version": 3
   },
   "file_extension": ".py",
   "mimetype": "text/x-python",
   "name": "python",
   "nbconvert_exporter": "python",
   "pygments_lexer": "ipython3",
   "version": "3.12.0"
  }
 },
 "nbformat": 4,
 "nbformat_minor": 2
}
